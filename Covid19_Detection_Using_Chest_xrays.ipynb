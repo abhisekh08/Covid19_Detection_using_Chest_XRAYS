{
  "nbformat": 4,
  "nbformat_minor": 0,
  "metadata": {
    "colab": {
      "name": "Covid19_Detection_Using_Chest_xrays.ipynb",
      "provenance": [],
      "collapsed_sections": []
    },
    "kernelspec": {
      "name": "python3",
      "display_name": "Python 3"
    },
    "accelerator": "GPU"
  },
  "cells": [
    {
      "cell_type": "markdown",
      "metadata": {
        "id": "tIv4dkGYbqV0"
      },
      "source": [
        "**COVID19 DETECTION USING CHEST XRAYS**"
      ]
    },
    {
      "cell_type": "markdown",
      "metadata": {
        "id": "ZmsiA5_ub5ef"
      },
      "source": [
        "Downloading the dataset"
      ]
    },
    {
      "cell_type": "code",
      "metadata": {
        "id": "GCP8GRyu2bin"
      },
      "source": [
        ""
      ],
      "execution_count": null,
      "outputs": []
    },
    {
      "cell_type": "code",
      "metadata": {
        "id": "6BHmkMPPaWpA"
      },
      "source": [
        "!wget 'https://www.dropbox.com/s/7rjw6oet4za01op/CovidDataset-20200427T133042Z-001.zip'"
      ],
      "execution_count": null,
      "outputs": []
    },
    {
      "cell_type": "markdown",
      "metadata": {
        "id": "QR3k3K6Fb_bV"
      },
      "source": [
        "Unzipping the dataset"
      ]
    },
    {
      "cell_type": "code",
      "metadata": {
        "id": "zqOH5WemajkK"
      },
      "source": [
        "!unzip '/content/CovidDataset-20200427T133042Z-001.zip'"
      ],
      "execution_count": null,
      "outputs": []
    },
    {
      "cell_type": "markdown",
      "metadata": {
        "id": "w-s3zXXPdTr2"
      },
      "source": [
        "Libraries required"
      ]
    },
    {
      "cell_type": "code",
      "metadata": {
        "id": "qoXfRkYKbkru"
      },
      "source": [
        "import pandas as pd\r\n",
        "import numpy as np\r\n",
        "import cv2\r\n",
        "import os\r\n",
        "import random\r\n",
        "import keras\r\n",
        "import matplotlib.pyplot as plt\r\n",
        "%matplotlib inline"
      ],
      "execution_count": 3,
      "outputs": []
    },
    {
      "cell_type": "markdown",
      "metadata": {
        "id": "o84_ovXEda84"
      },
      "source": [
        "Model Preparation"
      ]
    },
    {
      "cell_type": "code",
      "metadata": {
        "id": "ky_MFzCddeXc"
      },
      "source": [
        "from keras.models import Sequential\r\n",
        "from keras.layers import Conv2D, Dense, Dropout, Flatten, MaxPooling2D\r\n",
        "from keras.preprocessing import image\r\n",
        "from keras.optimizers import Adam"
      ],
      "execution_count": 4,
      "outputs": []
    },
    {
      "cell_type": "code",
      "metadata": {
        "id": "lEYTWsRffD18"
      },
      "source": [
        "model = Sequential()\r\n",
        "model.add(Conv2D(32,(3,3),activation='relu',input_shape=(224,224,3)))\r\n",
        "model.add(Conv2D(64,(3,3),activation='relu'))\r\n",
        "model.add(MaxPooling2D(pool_size=(2,2)))\r\n",
        "model.add(Dropout(0.25))\r\n",
        "\r\n",
        "model.add(Conv2D(64,(3,3),activation='relu'))\r\n",
        "model.add(MaxPooling2D(pool_size=(2,2)))\r\n",
        "model.add(Dropout(0.25))\r\n",
        "\r\n",
        "model.add(Conv2D(128,(3,3),activation='relu'))\r\n",
        "model.add(MaxPooling2D(pool_size=(2,2)))\r\n",
        "model.add(Dropout(0.25))\r\n",
        "\r\n",
        "model.add(Flatten())\r\n",
        "model.add(Dense(64,activation='relu'))\r\n",
        "model.add(Dropout(0.5))\r\n",
        "\r\n",
        "model.add(Dense(1,activation='sigmoid'))"
      ],
      "execution_count": 5,
      "outputs": []
    },
    {
      "cell_type": "code",
      "metadata": {
        "colab": {
          "base_uri": "https://localhost:8080/"
        },
        "id": "TFsXTyv5hCBS",
        "outputId": "e9bffdeb-32e9-47f0-c4c7-25c34c9030af"
      },
      "source": [
        "model.summary()"
      ],
      "execution_count": 6,
      "outputs": [
        {
          "output_type": "stream",
          "text": [
            "Model: \"sequential\"\n",
            "_________________________________________________________________\n",
            "Layer (type)                 Output Shape              Param #   \n",
            "=================================================================\n",
            "conv2d (Conv2D)              (None, 222, 222, 32)      896       \n",
            "_________________________________________________________________\n",
            "conv2d_1 (Conv2D)            (None, 220, 220, 64)      18496     \n",
            "_________________________________________________________________\n",
            "max_pooling2d (MaxPooling2D) (None, 110, 110, 64)      0         \n",
            "_________________________________________________________________\n",
            "dropout (Dropout)            (None, 110, 110, 64)      0         \n",
            "_________________________________________________________________\n",
            "conv2d_2 (Conv2D)            (None, 108, 108, 64)      36928     \n",
            "_________________________________________________________________\n",
            "max_pooling2d_1 (MaxPooling2 (None, 54, 54, 64)        0         \n",
            "_________________________________________________________________\n",
            "dropout_1 (Dropout)          (None, 54, 54, 64)        0         \n",
            "_________________________________________________________________\n",
            "conv2d_3 (Conv2D)            (None, 52, 52, 128)       73856     \n",
            "_________________________________________________________________\n",
            "max_pooling2d_2 (MaxPooling2 (None, 26, 26, 128)       0         \n",
            "_________________________________________________________________\n",
            "dropout_2 (Dropout)          (None, 26, 26, 128)       0         \n",
            "_________________________________________________________________\n",
            "flatten (Flatten)            (None, 86528)             0         \n",
            "_________________________________________________________________\n",
            "dense (Dense)                (None, 64)                5537856   \n",
            "_________________________________________________________________\n",
            "dropout_3 (Dropout)          (None, 64)                0         \n",
            "_________________________________________________________________\n",
            "dense_1 (Dense)              (None, 1)                 65        \n",
            "=================================================================\n",
            "Total params: 5,668,097\n",
            "Trainable params: 5,668,097\n",
            "Non-trainable params: 0\n",
            "_________________________________________________________________\n"
          ],
          "name": "stdout"
        }
      ]
    },
    {
      "cell_type": "code",
      "metadata": {
        "id": "ebOonugOvq4D"
      },
      "source": [
        "model.compile(optimizer=Adam(), loss=keras.losses.binary_crossentropy, metrics=['accuracy'])"
      ],
      "execution_count": 7,
      "outputs": []
    },
    {
      "cell_type": "markdown",
      "metadata": {
        "id": "u1-DKAmCdf1-"
      },
      "source": [
        "Model Training and Validation"
      ]
    },
    {
      "cell_type": "code",
      "metadata": {
        "id": "kJA3pygcdk0l"
      },
      "source": [
        "train_datagen = image.ImageDataGenerator(\r\n",
        "    rescale = 1/.255,\r\n",
        "    shear_range = 0.2, \r\n",
        "    zoom_range = 0.2,\r\n",
        "    horizontal_flip = True,\r\n",
        ")\r\n",
        "\r\n",
        "test_datagen = image.ImageDataGenerator(\r\n",
        "    rescale = 1/.255,\r\n",
        ")"
      ],
      "execution_count": 8,
      "outputs": []
    },
    {
      "cell_type": "code",
      "metadata": {
        "id": "z6XYWEdaxNlO"
      },
      "source": [
        "train_path = '/content/CovidDataset/Train'\r\n",
        "test_path = '/content/CovidDataset/Val'"
      ],
      "execution_count": 9,
      "outputs": []
    },
    {
      "cell_type": "code",
      "metadata": {
        "colab": {
          "base_uri": "https://localhost:8080/"
        },
        "id": "yLpqTkzcwsnQ",
        "outputId": "86505374-ca67-4c06-c203-63c5cc595144"
      },
      "source": [
        "train_generator = train_datagen.flow_from_directory(\r\n",
        "    train_path,\r\n",
        "    target_size=(224, 224),\r\n",
        "    batch_size=32,\r\n",
        "    class_mode='binary',\r\n",
        ")\r\n",
        "\r\n",
        "test_generator = test_datagen.flow_from_directory(\r\n",
        "    test_path,\r\n",
        "    target_size=(224, 224),\r\n",
        "    batch_size=32,\r\n",
        "    class_mode='binary',\r\n",
        ")"
      ],
      "execution_count": 10,
      "outputs": [
        {
          "output_type": "stream",
          "text": [
            "Found 224 images belonging to 2 classes.\n",
            "Found 60 images belonging to 2 classes.\n"
          ],
          "name": "stdout"
        }
      ]
    },
    {
      "cell_type": "code",
      "metadata": {
        "colab": {
          "base_uri": "https://localhost:8080/"
        },
        "id": "EmOvgpBRxqsG",
        "outputId": "f9b22c1f-f4cb-481e-9107-19c889f03553"
      },
      "source": [
        "class_dict = train_generator.class_indices\r\n",
        "class_dict"
      ],
      "execution_count": 11,
      "outputs": [
        {
          "output_type": "execute_result",
          "data": {
            "text/plain": [
              "{'Covid': 0, 'Normal': 1}"
            ]
          },
          "metadata": {
            "tags": []
          },
          "execution_count": 11
        }
      ]
    },
    {
      "cell_type": "code",
      "metadata": {
        "colab": {
          "base_uri": "https://localhost:8080/"
        },
        "id": "xxHVyNVLyC4T",
        "outputId": "bcd22c64-4d90-44c1-e801-3a91c246387f"
      },
      "source": [
        "hist = model.fit(\r\n",
        "    train_generator,\r\n",
        "    epochs = 15,\r\n",
        "    validation_data = test_generator,\r\n",
        ")"
      ],
      "execution_count": 12,
      "outputs": [
        {
          "output_type": "stream",
          "text": [
            "Epoch 1/15\n",
            "7/7 [==============================] - 13s 1s/step - loss: 1053.2685 - accuracy: 0.4873 - val_loss: 3.8340 - val_accuracy: 0.5000\n",
            "Epoch 2/15\n",
            "7/7 [==============================] - 9s 1s/step - loss: 7.4835 - accuracy: 0.6060 - val_loss: 0.6621 - val_accuracy: 0.5000\n",
            "Epoch 3/15\n",
            "7/7 [==============================] - 9s 1s/step - loss: 0.8734 - accuracy: 0.6590 - val_loss: 0.7258 - val_accuracy: 0.4833\n",
            "Epoch 4/15\n",
            "7/7 [==============================] - 9s 1s/step - loss: 0.6746 - accuracy: 0.6371 - val_loss: 0.6026 - val_accuracy: 0.7000\n",
            "Epoch 5/15\n",
            "7/7 [==============================] - 9s 1s/step - loss: 0.6698 - accuracy: 0.6951 - val_loss: 0.6225 - val_accuracy: 0.9667\n",
            "Epoch 6/15\n",
            "7/7 [==============================] - 9s 1s/step - loss: 0.5354 - accuracy: 0.7186 - val_loss: 0.5118 - val_accuracy: 0.8167\n",
            "Epoch 7/15\n",
            "7/7 [==============================] - 9s 1s/step - loss: 0.5498 - accuracy: 0.7330 - val_loss: 0.3925 - val_accuracy: 0.9667\n",
            "Epoch 8/15\n",
            "7/7 [==============================] - 9s 1s/step - loss: 0.4603 - accuracy: 0.7141 - val_loss: 0.3935 - val_accuracy: 0.9167\n",
            "Epoch 9/15\n",
            "7/7 [==============================] - 9s 1s/step - loss: 0.4304 - accuracy: 0.7922 - val_loss: 0.3131 - val_accuracy: 0.9500\n",
            "Epoch 10/15\n",
            "7/7 [==============================] - 9s 1s/step - loss: 0.4498 - accuracy: 0.7292 - val_loss: 0.3971 - val_accuracy: 0.9167\n",
            "Epoch 11/15\n",
            "7/7 [==============================] - 9s 1s/step - loss: 0.3798 - accuracy: 0.7794 - val_loss: 0.2607 - val_accuracy: 0.9667\n",
            "Epoch 12/15\n",
            "7/7 [==============================] - 9s 1s/step - loss: 0.5011 - accuracy: 0.7415 - val_loss: 0.3451 - val_accuracy: 0.9833\n",
            "Epoch 13/15\n",
            "7/7 [==============================] - 9s 1s/step - loss: 0.3922 - accuracy: 0.8222 - val_loss: 0.3800 - val_accuracy: 0.9667\n",
            "Epoch 14/15\n",
            "7/7 [==============================] - 9s 1s/step - loss: 0.3587 - accuracy: 0.7898 - val_loss: 0.3433 - val_accuracy: 0.9667\n",
            "Epoch 15/15\n",
            "7/7 [==============================] - 9s 1s/step - loss: 0.4416 - accuracy: 0.7801 - val_loss: 0.4700 - val_accuracy: 0.9667\n"
          ],
          "name": "stdout"
        }
      ]
    },
    {
      "cell_type": "markdown",
      "metadata": {
        "id": "OJvn5bUr3C3t"
      },
      "source": [
        "**Accuracy Vs Epochs Plot**"
      ]
    },
    {
      "cell_type": "code",
      "metadata": {
        "colab": {
          "base_uri": "https://localhost:8080/",
          "height": 605
        },
        "id": "DEvoRFXAzExA",
        "outputId": "0adaef16-b59c-4f8d-b87d-004bd09d0fa8"
      },
      "source": [
        "xbar = np.arange(0,15)\r\n",
        "plt.figure(figsize=(15,10))\r\n",
        "plt.plot(xbar,hist.history['accuracy'])\r\n",
        "plt.plot(xbar,hist.history['val_accuracy'])\r\n",
        "plt.xlabel('Epochs')\r\n",
        "plt.ylabel('Accuracy')\r\n",
        "plt.legend(['accuracy',['val_accuracy']])\r\n",
        "plt.plot()\r\n",
        "plt.savefig(\"Accuracy_plot.png\")"
      ],
      "execution_count": 24,
      "outputs": [
        {
          "output_type": "display_data",
          "data": {
            "image/png": "[encoded data removed]",
            "text/plain": [
              "<Figure size 1080x720 with 1 Axes>"
            ]
          },
          "metadata": {
            "tags": [],
            "needs_background": "light"
          }
        }
      ]
    },
    {
      "cell_type": "markdown",
      "metadata": {
        "id": "Bq1v3iuW4kLq"
      },
      "source": [
        "**Saving of model**"
      ]
    },
    {
      "cell_type": "code",
      "metadata": {
        "id": "HMOFJliZ4n_E"
      },
      "source": [
        "model.save('covid19_xray_detection_model.h5')\r\n"
      ],
      "execution_count": 25,
      "outputs": []
    }
  ]
}